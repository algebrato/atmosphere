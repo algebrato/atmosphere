{
 "cells": [
  {
   "cell_type": "code",
   "execution_count": 28,
   "metadata": {},
   "outputs": [],
   "source": [
    "import os\n",
    "import numpy as np\n",
    "import matplotlib.cm as cm\n",
    "from astropy.io import fits\n",
    "from netCDF4 import Dataset\n",
    "import matplotlib.pyplot as plt\n",
    "from mpl_toolkits.basemap import Basemap\n",
    "from numba import jit"
   ]
  },
  {
   "cell_type": "code",
   "execution_count": 130,
   "metadata": {},
   "outputs": [],
   "source": [
    "data = Dataset(\"../data_tenerife_era5/08.nc\", mode='r')\n",
    "lons = data.variables['longitude'][:]\n",
    "lats = data.variables['latitude'][:]\n",
    "\n",
    "try:\n",
    "    T2M = data.variables['tcwv'][:,0,:,:]\n",
    "except ValueError as verr:\n",
    "    T2M = data.variables['tcwv'][:,:,:]\n",
    "\n",
    "var = T2M[:, 10, 20]\n",
    "var = np.reshape(var,(24, 39*31))"
   ]
  },
  {
   "cell_type": "code",
   "execution_count": 131,
   "metadata": {},
   "outputs": [
    {
     "data": {
      "text/plain": [
       "[<matplotlib.lines.Line2D at 0x7f58f7557e90>]"
      ]
     },
     "execution_count": 131,
     "metadata": {},
     "output_type": "execute_result"
    },
    {
     "data": {
      "image/png": "[encoded data removed]",
      "text/plain": [
       "<Figure size 432x288 with 1 Axes>"
      ]
     },
     "metadata": {
      "needs_background": "light"
     },
     "output_type": "display_data"
    }
   ],
   "source": [
    "plt.plot(np.sort(var[14,:]), np.linspace(0,1,31*39))"
   ]
  },
  {
   "cell_type": "code",
   "execution_count": 50,
   "metadata": {},
   "outputs": [
    {
     "data": {
      "text/plain": [
       "<class 'netCDF4._netCDF4.Variable'>\n",
       "int32 expver(expver)\n",
       "    long_name: expver\n",
       "unlimited dimensions: \n",
       "current shape = (2,)\n",
       "filling on, default _FillValue of -2147483647 used"
      ]
     },
     "execution_count": 50,
     "metadata": {},
     "output_type": "execute_result"
    }
   ],
   "source": [
    "data.variables['expver']"
   ]
  },
  {
   "cell_type": "code",
   "execution_count": 47,
   "metadata": {},
   "outputs": [],
   "source": [
    "def shoot(lon, lat, azimuth, maxdist=None):\n",
    "    \"\"\"Shooter Function\n",
    "    Original javascript on http://williams.best.vwh.net/gccalc.htm\n",
    "    Translated to python by Thomas Lecocq\n",
    "    \"\"\"\n",
    "    glat1 = lat * np.pi / 180.\n",
    "    glon1 = lon * np.pi / 180.\n",
    "    s = maxdist / 1.852\n",
    "    faz = azimuth * np.pi / 180.\n",
    "\n",
    "    EPS= 0.00000000005\n",
    "    if ((np.abs(np.cos(glat1))<EPS) and not (np.abs(np.sin(faz))<EPS)):\n",
    "        alert(\"Only N-S courses are meaningful, starting at a pole!\")\n",
    "\n",
    "    a=6378.13/1.852\n",
    "    f=1/298.257223563\n",
    "    r = 1 - f\n",
    "    tu = r * np.tan(glat1)\n",
    "    sf = np.sin(faz)\n",
    "    cf = np.cos(faz)\n",
    "    if (cf==0):\n",
    "        b=0.\n",
    "    else:\n",
    "        b=2. * np.arctan2 (tu, cf)\n",
    "\n",
    "    cu = 1. / np.sqrt(1 + tu * tu)\n",
    "    su = tu * cu\n",
    "    sa = cu * sf\n",
    "    c2a = 1 - sa * sa\n",
    "    x = 1. + np.sqrt(1. + c2a * (1. / (r * r) - 1.))\n",
    "    x = (x - 2.) / x\n",
    "    c = 1. - x\n",
    "    c = (x * x / 4. + 1.) / c\n",
    "    d = (0.375 * x * x - 1.) * x\n",
    "    tu = s / (r * a * c)\n",
    "    y = tu\n",
    "    c = y + 1\n",
    "    while (np.abs (y - c) > EPS):\n",
    "\n",
    "        sy = np.sin(y)\n",
    "        cy = np.cos(y)\n",
    "        cz = np.cos(b + y)\n",
    "        e = 2. * cz * cz - 1.\n",
    "        c = y\n",
    "        x = e * cy\n",
    "        y = e + e - 1.\n",
    "        y = (((sy * sy * 4. - 3.) * y * cz * d / 6. + x) *\n",
    "              d / 4. - cz) * sy * d + tu\n",
    "\n",
    "    b = cu * cy * cf - su * sy\n",
    "    c = r * np.sqrt(sa * sa + b * b)\n",
    "    d = su * cy + cu * sy * cf\n",
    "    glat2 = (np.arctan2(d, c) + np.pi) % (2*np.pi) - np.pi\n",
    "    c = cu * cy - su * sy * cf\n",
    "    x = np.arctan2(sy * sf, c)\n",
    "    c = ((-3. * c2a + 4.) * f + 4.) * c2a * f / 16.\n",
    "    d = ((e * cy * c + cz) * sy * c + y) * sa\n",
    "    glon2 = ((glon1 + x - (1. - c) * d * f + np.pi) % (2*np.pi)) - np.pi\t\n",
    "\n",
    "    baz = (np.arctan2(sa, b) + np.pi) % (2 * np.pi)\n",
    "\n",
    "    glon2 *= 180./np.pi\n",
    "    glat2 *= 180./np.pi\n",
    "    baz *= 180./np.pi\n",
    "\n",
    "    return (glon2, glat2, baz)\n",
    "\n",
    "def equi(m, centerlon, centerlat, radius, *args, **kwargs):\n",
    "    glon1 = centerlon\n",
    "    glat1 = centerlat\n",
    "    X = []\n",
    "    Y = []\n",
    "    for azimuth in range(0, 360):\n",
    "        glon2, glat2, baz = shoot(glon1, glat1, azimuth, radius)\n",
    "        X.append(glon2)\n",
    "        Y.append(glat2)\n",
    "    X.append(X[0])\n",
    "    Y.append(Y[0])\n",
    "\n",
    "    #~ m.plot(X,Y,**kwargs) #Should work, but doesn't...\n",
    "    return m(X,Y)"
   ]
  },
  {
   "cell_type": "code",
   "execution_count": 48,
   "metadata": {},
   "outputs": [
    {
     "name": "stdout",
     "output_type": "stream",
     "text": [
      "(41,) (21,)\n",
      "(21, 41)\n",
      "(21, 41) (21, 41)\n",
      "(21, 41) (21, 41)\n"
     ]
    },
    {
     "data": {
      "image/png": "[encoded data removed]",
      "text/plain": [
       "<Figure size 432x288 with 2 Axes>"
      ]
     },
     "metadata": {
      "needs_background": "light"
     },
     "output_type": "display_data"
    }
   ],
   "source": [
    "lllong = -20.0\n",
    "lllat  = 26.0\n",
    "urlong = -10.0\n",
    "urlat  = 31.0\n",
    "\n",
    "mappa = np.median(T2M, axis=0)\n",
    "m = Basemap(llcrnrlon=lllong, llcrnrlat=lllat, urcrnrlon=urlong, urcrnrlat=urlat, \n",
    "            projection='cyl', lon_0=0.0, lat_1=lllat, lat_2=urlat, resolution ='i')\n",
    "\n",
    "print(np.shape(lons), np.shape(lats))\n",
    "lon, lat = np.meshgrid(lons, lats)\n",
    "xi, yi = m(lon, lat)\n",
    "print(np.shape(mappa))\n",
    "print(np.shape(lon), np.shape(lat))\n",
    "print(np.shape(xi), np.shape(yi))\n",
    "\n",
    "\n",
    "cs = m.pcolor(xi,yi,np.squeeze(mappa[:, :]), vmin=5, vmax=35, cmap=cm.jet)\n",
    "cs.set_edgecolor('face')\n",
    "m.drawparallels(np.arange(lllat, urlat, 1.), labels=[1,0,0,0], fontsize=5)\n",
    "m.drawmeridians(np.arange(lllong, urlong, 1.), labels=[0,0,0,1], fontsize=4)\n",
    "m.drawcoastlines()\n",
    "m.drawstates()\n",
    "m.drawcountries()\n",
    "\n",
    "\n",
    "cbar = m.colorbar(cs, location='bottom', pad=\"10%\")\n",
    "cbar.set_label('PWV [kg/m^2]')\n",
    "cbar.ax.tick_params(labelsize=10)\n",
    "\n",
    "figure = plt.figure(1)\n",
    "plt.title('Cylindrical projection of the telecope line of sight - ERA5' )\n",
    "\n",
    "centerlon = -16.51046\n",
    "centerlat = 28.30055\n",
    "X,Y = equi(m, centerlon, centerlat, 7,lw=5.)\n",
    "X2,Y2 = equi(m, centerlon, centerlat, 18.19,lw=5.)\n",
    "plt.plot(X, Y, alpha=1, label=\"Elevation = 70 deg\")\n",
    "plt.plot(X2,Y2, alpha=1, label=\"Elevation = 40 deg\")\n",
    "figure = plt.figure(1)\n",
    "\n",
    "plt.savefig(\"MEDIANA.png\", format='png', dpi=360)\n"
   ]
  },
  {
   "cell_type": "code",
   "execution_count": 83,
   "metadata": {},
   "outputs": [
    {
     "data": {
      "text/plain": [
       "(721, 1440)"
      ]
     },
     "execution_count": 83,
     "metadata": {},
     "output_type": "execute_result"
    }
   ],
   "source": [
    "np.shape(mappa)"
   ]
  },
  {
   "cell_type": "code",
   "execution_count": 33,
   "metadata": {},
   "outputs": [
    {
     "data": {
      "text/plain": [
       "-180.0"
      ]
     },
     "execution_count": 33,
     "metadata": {},
     "output_type": "execute_result"
    }
   ],
   "source": [
    "np.amin(lons-180)"
   ]
  },
  {
   "cell_type": "code",
   "execution_count": 50,
   "metadata": {},
   "outputs": [
    {
     "data": {
      "text/plain": [
       "720.0"
      ]
     },
     "execution_count": 50,
     "metadata": {},
     "output_type": "execute_result"
    }
   ],
   "source": [
    "1440/2"
   ]
  },
  {
   "cell_type": "code",
   "execution_count": 59,
   "metadata": {},
   "outputs": [
    {
     "data": {
      "text/plain": [
       "-179.75"
      ]
     },
     "execution_count": 59,
     "metadata": {},
     "output_type": "execute_result"
    }
   ],
   "source": [
    "lons[721]-36"
   ]
  },
  {
   "cell_type": "code",
   "execution_count": 79,
   "metadata": {},
   "outputs": [
    {
     "data": {
      "text/plain": [
       "-179.75"
      ]
     },
     "execution_count": 79,
     "metadata": {},
     "output_type": "execute_result"
    }
   ],
   "source": [
    "lons2[0]"
   ]
  },
  {
   "cell_type": "code",
   "execution_count": null,
   "metadata": {},
   "outputs": [],
   "source": []
  }
 ],
 "metadata": {
  "kernelspec": {
   "display_name": "Python 3",
   "language": "python",
   "name": "python3"
  },
  "language_info": {
   "codemirror_mode": {
    "name": "ipython",
    "version": 3
   },
   "file_extension": ".py",
   "mimetype": "text/x-python",
   "name": "python",
   "nbconvert_exporter": "python",
   "pygments_lexer": "ipython3",
   "version": "3.7.6"
  }
 },
 "nbformat": 4,
 "nbformat_minor": 2
}
